{
 "cells": [
  {
   "cell_type": "code",
   "execution_count": 1,
   "metadata": {
    "collapsed": false
   },
   "outputs": [],
   "source": [
    "import cv2\n",
    "import numpy as np\n",
    "\n",
    "class Land():\n",
    "    def __init__(self):\n",
    "        n = 15\n",
    "        land_0 = np.zeros((n,n))\n",
    "        for _ in range(20):\n",
    "            land_0[np.random.randint(2,n-2), np.random.randint(2,n-2)] = 100.\n",
    "        \n",
    "        for i in range(4):\n",
    "            land_1 = cv2.pyrUp(land_0)\n",
    "            land_0 = cv2.blur(land_1,(5,5))\n",
    "        \n",
    "        land = land_0.astype(np.dtype('uint8'))\n",
    "        \n",
    "        self.growth = land\n",
    "        self.land = land.copy()\n",
    "    \n",
    "    def grow(self):\n",
    "        self.land += self.growth\n",
    "        "
   ]
  },
  {
   "cell_type": "code",
   "execution_count": 194,
   "metadata": {
    "collapsed": false
   },
   "outputs": [],
   "source": [
    "class Bot():\n",
    "    def __init__(self,xy,th,fat=10,W=None):\n",
    "        self.xy = np.array(xy)\n",
    "        self.th = th\n",
    "        self.fat = fat\n",
    "        if not W: self.W = np.random.rand(6)-0.5\n",
    "        else: self.W = W\n",
    "    \n",
    "    def feel(self, land):\n",
    "        xl,yl = self.xy + 2 * np.array([np.cos(self.th-1),  \n",
    "                                        np.sin(self.th+1)])\n",
    "        xr,yr = self.xy + 2 * np.array([np.cos(self.th-1), \n",
    "                                        np.sin(self.th-1)])\n",
    "        return land.land[int(xl),int(yl)], land.land[int(xr),int(yr)]\n",
    "    \n",
    "    def move(self,land):\n",
    "        Fl,Fr = self.feel(land)\n",
    "        Vl = sigmoid(self.W[0] + self.W[1]*Fl + self.W[2]*Fr )\n",
    "        Vr = sigmoid(self.W[3] + self.W[4]*Fl + self.W[5]*Fr )\n",
    "        if Vl == Vr: \n",
    "            dth = 0\n",
    "        else:\n",
    "            r = (Vl+Vr)/(Vl-Vr)\n",
    "            dth = -Vl/(r+0.5)\n",
    "        print 'Vl,Vr:', Vl,Vr, '\\tdth:',dth\n",
    "        self.th += dth\n",
    "        self.xy += (Vl+Vr) / 2. * np.array([np.cos(self.th), \n",
    "                                           np.sin(self.th)])\n",
    "    \n",
    "    def eat(self,land):\n",
    "        pass\n",
    "    \n",
    "    def meet(self, bots):\n",
    "        pass\n",
    "\n",
    "def sigmoid(x): return 1./(1.+np.exp(-x))"
   ]
  },
  {
   "cell_type": "code",
   "execution_count": 195,
   "metadata": {
    "collapsed": false
   },
   "outputs": [],
   "source": [
    "land = Land()\n",
    "x,y = 25.,90.\n",
    "bot = Bot(xy=(x,y),th=0.)"
   ]
  },
  {
   "cell_type": "code",
   "execution_count": 288,
   "metadata": {
    "collapsed": false
   },
   "outputs": [
    {
     "name": "stdout",
     "output_type": "stream",
     "text": [
      "feels: (1, 0)\n",
      "Vl,Vr: 0.528810997213 0.723845310322 \tdth: 0.0892847320759\n",
      "[ 49.87730628  84.29629857]\n"
     ]
    }
   ],
   "source": [
    "print 'feels:', bot.feel(land)\n",
    "bot.move(land)\n",
    "print bot.xy"
   ]
  }
 ],
 "metadata": {
  "celltoolbar": "Raw Cell Format",
  "kernelspec": {
   "display_name": "Python 2",
   "language": "python",
   "name": "python2"
  },
  "language_info": {
   "codemirror_mode": {
    "name": "ipython",
    "version": 2
   },
   "file_extension": ".py",
   "mimetype": "text/x-python",
   "name": "python",
   "nbconvert_exporter": "python",
   "pygments_lexer": "ipython2",
   "version": "2.7.11+"
  }
 },
 "nbformat": 4,
 "nbformat_minor": 0
}
